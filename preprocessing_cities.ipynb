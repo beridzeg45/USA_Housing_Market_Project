{
 "cells": [
  {
   "cell_type": "code",
   "execution_count": 1,
   "metadata": {},
   "outputs": [],
   "source": [
    "import pandas as pd\n",
    "import plotly.express as px\n",
    "import warnings\n",
    "import pickle\n",
    "warnings.filterwarnings('ignore')"
   ]
  },
  {
   "cell_type": "code",
   "execution_count": 2,
   "metadata": {},
   "outputs": [],
   "source": [
    "df=pd.read_csv('City_zhvi_uc_sfrcondo_tier_0.33_0.67_sm_sa_month.csv')\n",
    "\n",
    "city_coordinates_dict=pickle.load(open('city_coordinates_dict.pickle','rb'))"
   ]
  },
  {
   "cell_type": "code",
   "execution_count": 3,
   "metadata": {},
   "outputs": [],
   "source": [
    "#leave only big cities with all entries\n",
    "df=df.dropna(how='any').reset_index(drop=True)\n",
    "df=df.sort_values(by='SizeRank').head(500)"
   ]
  },
  {
   "cell_type": "code",
   "execution_count": 4,
   "metadata": {},
   "outputs": [],
   "source": [
    "df['City_State']=df.apply(lambda x:f\"{x['RegionName']} ({x['State']})\", axis=1)"
   ]
  },
  {
   "cell_type": "code",
   "execution_count": 5,
   "metadata": {},
   "outputs": [],
   "source": [
    "df=df.melt(id_vars=['City_State'], var_name='Date', value_vars=df.columns[df.columns.str.contains('-')], value_name='Price').sort_values(by=['City_State','Date'])"
   ]
  },
  {
   "cell_type": "code",
   "execution_count": 6,
   "metadata": {},
   "outputs": [],
   "source": [
    "#create group_city df\n",
    "df['Date']=pd.to_datetime(df['Date'])\n",
    "grouped_city=df.groupby([df['Date'].dt.to_period('M'),'City_State'])['Price'].mean().reset_index()"
   ]
  },
  {
   "cell_type": "code",
   "execution_count": 7,
   "metadata": {},
   "outputs": [],
   "source": [
    "grouped_city['Lat']=grouped_city['City_State'].apply(lambda x:city_coordinates_dict[x]['Lat'] if x in city_coordinates_dict else None)\n",
    "grouped_city['Lon']=grouped_city['City_State'].apply(lambda x:city_coordinates_dict[x]['Lon'] if x in city_coordinates_dict else None)"
   ]
  },
  {
   "cell_type": "code",
   "execution_count": 8,
   "metadata": {},
   "outputs": [],
   "source": [
    "grouped_city.to_csv('grouped_city.csv',index=False)"
   ]
  },
  {
   "cell_type": "markdown",
   "metadata": {},
   "source": [
    "get city coordinates"
   ]
  },
  {
   "cell_type": "markdown",
   "metadata": {},
   "source": [
    "from geopy.geocoders import Photon\n",
    "\n",
    "\n",
    "def get_coordinates(city, state):\n",
    "    geolocator =  Photon(user_agent=\"measurements\")\n",
    "    location = geolocator.geocode(f\"{city}, {state}\")\n",
    "    if location:\n",
    "        return location.latitude, location.longitude\n",
    "    else:\n",
    "        return None\n"
   ]
  },
  {
   "cell_type": "markdown",
   "metadata": {},
   "source": [
    "city_coordinates_dict={}\n",
    "for i, city_state in enumerate(grouped_city['City_State'].unique()):\n",
    "    city=city_state.split('(')[0].strip()\n",
    "    state=city_state.split('(')[-1].replace(')','').strip()\n",
    "    \n",
    "    lat,lon=get_coordinates(city,state)\n",
    "    city_coordinates_dict[city_state]={'Lat':lat,'Lon':lon}\n",
    "    \n",
    "    print(i,end='\\r')"
   ]
  },
  {
   "cell_type": "markdown",
   "metadata": {},
   "source": [
    "pickle.dump(city_coordinates_dict,open('city_coordinates_dict.pickle','wb'))"
   ]
  },
  {
   "cell_type": "markdown",
   "metadata": {},
   "source": []
  }
 ],
 "metadata": {
  "kernelspec": {
   "display_name": "Python 3",
   "language": "python",
   "name": "python3"
  },
  "language_info": {
   "codemirror_mode": {
    "name": "ipython",
    "version": 3
   },
   "file_extension": ".py",
   "mimetype": "text/x-python",
   "name": "python",
   "nbconvert_exporter": "python",
   "pygments_lexer": "ipython3",
   "version": "3.11.9"
  }
 },
 "nbformat": 4,
 "nbformat_minor": 2
}
