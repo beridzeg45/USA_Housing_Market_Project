{
 "cells": [
  {
   "cell_type": "code",
   "execution_count": 2,
   "metadata": {},
   "outputs": [],
   "source": [
    "import pandas as pd\n",
    "import plotly.express as px\n",
    "import warnings\n",
    "import pickle\n",
    "import requests\n",
    "import json\n",
    "import geopandas\n",
    "\n",
    "warnings.filterwarnings('ignore')"
   ]
  },
  {
   "cell_type": "code",
   "execution_count": 3,
   "metadata": {},
   "outputs": [],
   "source": [
    "df=pd.read_csv('Zip_zhvi_uc_sfrcondo_tier_0.33_0.67_sm_sa_month.csv')\n",
    "\n",
    "states_shp_urls_dict=pickle.load(open('states_shp_urls_dict.pickle','rb'))"
   ]
  },
  {
   "cell_type": "code",
   "execution_count": 4,
   "metadata": {},
   "outputs": [],
   "source": [
    "df['City_State']=df.apply(lambda x:f\"{x['City']} ({x['State']})\", axis=1)"
   ]
  },
  {
   "cell_type": "code",
   "execution_count": 5,
   "metadata": {},
   "outputs": [],
   "source": [
    "cities_list=list(pd.read_csv('grouped_city.csv')['City_State'].unique())\n",
    "last_period=df.columns[df.columns.str.contains('-')][-1]\n",
    "\n",
    "df=df[df['City_State'].isin(cities_list)]\n",
    "df=df[['RegionName','City_State',last_period]].rename(columns={last_period:'Price'})\n",
    "\n",
    "grouped_zip=df.drop_duplicates().reset_index(drop=True)"
   ]
  },
  {
   "cell_type": "code",
   "execution_count": 6,
   "metadata": {},
   "outputs": [],
   "source": [
    "grouped_zip['RegionName']=grouped_zip['RegionName'].astype(str)"
   ]
  },
  {
   "cell_type": "code",
   "execution_count": 7,
   "metadata": {},
   "outputs": [],
   "source": [
    "grouped_zip.to_csv('grouped_zip.csv',index=False)"
   ]
  },
  {
   "cell_type": "markdown",
   "metadata": {},
   "source": [
    "states_lower=['tx_texas', 'nj_new_jersey', 'ny_new_york', 'ca_california', 'il_illinois', 'tn_tennessee', 'ga_georgia', 'va_virginia', 'nc_north_carolina', 'wa_washington', 'fl_florida', 'nv_nevada', 'pa_pennsylvania', 'co_colorado', 'dc_district_of_columbia', 'md_maryland', 'oh_ohio', 'or_oregon', 'ma_massachusetts', 'az_arizona', 'ky_kentucky', 'ut_utah', 'hi_hawaii', 'ok_oklahoma', 'wi_wisconsin', 'mn_minnesota', 'mi_michigan', 'ct_connecticut', 'de_delaware', 'ar_arkansas', 'al_alabama', 'sc_south_carolina', 'mo_missouri', 'ne_nebraska', 'ri_rhode_island', 'ak_alaska', 'ia_iowa', 'la_louisiana', 'nh_new_hampshire', 'ks_kansas', 'wv_west_virginia']\n",
    "states_shp_urls_dict={i.split('_')[0].upper(): f'https://raw.githubusercontent.com/OpenDataDE/State-zip-code-GeoJSON/master/{i}_zip_codes_geo.min.json' for i in states_lower}\n",
    "pickle.dump(states_shp_urls_dict,open('states_shp_urls_dict.pickle','wb'))"
   ]
  },
  {
   "cell_type": "code",
   "execution_count": null,
   "metadata": {},
   "outputs": [],
   "source": []
  }
 ],
 "metadata": {
  "kernelspec": {
   "display_name": "Python 3",
   "language": "python",
   "name": "python3"
  },
  "language_info": {
   "codemirror_mode": {
    "name": "ipython",
    "version": 3
   },
   "file_extension": ".py",
   "mimetype": "text/x-python",
   "name": "python",
   "nbconvert_exporter": "python",
   "pygments_lexer": "ipython3",
   "version": "3.11.9"
  }
 },
 "nbformat": 4,
 "nbformat_minor": 2
}
